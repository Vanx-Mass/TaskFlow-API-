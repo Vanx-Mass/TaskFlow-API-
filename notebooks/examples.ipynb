{
 "cells": [
  {
   "cell_type": "markdown",
   "metadata": {
    "id": "header"
   },
   "source": [
    "# 🧪 Testes da TaskFlow API\n",
    "\n",
    "Notebook para testar a API diretamente no Google Colab\n",
    "\n",
    "[![Open in GitHub]](https://github.com/seu-usuario/TaskFlow-API)"
   ]
  },
  {
   "cell_type": "code",
   "execution_count": null,
   "metadata": {
    "id": "install-deps"
   },
   "outputs": [],
   "source": [
    "# ✅ Instalar dependências\n",
    "!pip install fastapi uvicorn python-multipart requests"
   ]
  },
  {
   "cell_type": "code",
   "execution_count": null,
   "metadata": {
    "id": "clone-repo"
   },
   "outputs": [],
   "source": [
    "# 📁 Clonar seu repositório\n",
    "!git clone https://github.com/seu-usuario/TaskFlow-API.git\n",
    "%cd TaskFlow-API"
   ]
  },
  {
   "cell_type": "code",
   "execution_count": null,
   "metadata": {
    "id": "run-api"
   },
   "outputs": [],
   "source": [
    "# 🚀 Executar a API\n",
    "!uvicorn src.main:app --host 0.0.0.0 --port 8000 --reload &"
   ]
  },
  {
   "cell_type": "code",
   "execution_count": null,
   "metadata": {
    "id": "test-api"
   },
   "outputs": [],
   "source": [
    "# 🧪 Testar a API\n",
    "import requests\n",
    "import time\n",
    "\n",
    "time.sleep(3)  # Aguardar API iniciar\n",
    "\n",
    "# Testar health check\n",
    "response = requests.get(\"http://localhost:8000/health\")\n",
    "print(\"Health Check:\", response.json())\n",
    "\n",
    "# Criar usuário\n",
    "usuario_data = {\"nome\": \"João Silva\", \"email\": \"joao@email.com\"}\n",
    "response = requests.post(\"http://localhost:8000/usuarios\", json=usuario_data)\n",
    "print(\"Usuário criado:\", response.json())"
   ]
  }
 ],
 "metadata": {
  "colab": {
   "provenance": []
  },
  "kernelspec": {
   "display_name": "Python 3",
   "name": "python3"
  }
 },
 "nbformat": 4,
 "nbformat_minor": 0
}
