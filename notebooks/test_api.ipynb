# Célula 1: Instalação de dependências
!pip install fastapi uvicorn python-multipart

# Célula 2: Imports e configuração
import requests
import json
from uuid import UUID

BASE_URL = "http://localhost:8000"

# Célula 3: Testar criação de usuário
payload = {"nome": "João Silva", "email": "joao@email.com"}
response = requests.post(f"{BASE_URL}/usuarios", json=payload)
print("Criar usuário:", response.status_code, response.json())

# Célula 4: Testar criação de tarefa
usuario_id = response.json()["id"]
payload = {
    "titulo": "Estudar Python",
    "descricao": "Completar curso de FastAPI",
    "prioridade": "alta",
    "usuario_id": usuario_id
}
response = requests.post(f"{BASE_URL}/tarefas", json=payload)
print("Criar tarefa:", response.status_code, response.json())
