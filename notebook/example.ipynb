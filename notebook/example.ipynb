{
 "cells": [
  {
   "cell_type": "markdown",
   "metadata": {
    "id": "header"
   },
   "source": [
    "# 📊 Exemplos de Uso - TaskFlow API\n",
    "\n",
    "Notebook com exemplos práticos de como usar a API TaskFlow\n",
    "\n",
    "[![Open in Colab](https://colab.research.google.com/assets/colab-badge.svg)](https://colab.research.google.com/github/Vanx-Mass/TaskFlow-API/blob/main/notebooks/examples.ipynb)\n",
    "[![View on GitHub](https://img.shields.io/badge/GitHub-View%20Source-blue?logo=github)](https://github.com/Vanx-Mass/TaskFlow-API)"
   ]
  },
  {
   "cell_type": "markdown",
   "metadata": {
    "id": "setup"
   },
   "source": [
    "## ⚙️ Configuração Inicial\n",
    "\n",
    "Primeiro, vamos instalar as dependências e iniciar a API:"
   ]
  },
  {
   "cell_type": "code",
   "execution_count": null,
   "metadata": {
    "id": "install-deps"
   },
   "outputs": [],
   "source": [
    "# ✅ Instalar dependências\n",
    "!pip install fastapi uvicorn python-multipart requests"
   ]
  },
  {
   "cell_type": "code",
   "execution_count": null,
   "metadata": {
    "id": "clone-run"
   },
   "outputs": [],
   "source": [
    "# 📁 Clonar repositório e executar API\n",
    "!git clone https://github.com/Vanx-Mass/TaskFlow-API.git\n",
    "%cd TaskFlow-API\n",
    "!uvicorn src.main:app --host 0.0.0.0 --port 8000 --reload &"
   ]
  },
  {
   "cell_type": "code",
   "execution_count": null,
   "metadata": {
    "id": "wait-api"
   },
   "outputs": [],
   "source": [
    "# ⏳ Aguardar API iniciar\n",
    "import time\n",
    "time.sleep(5)\n",
    "print(\"✅ API está rodando em http://localhost:8000\")\n",
    "print(\"📚 Documentação: http://localhost:8000/docs\")"
   ]
  },
  {
   "cell_type": "markdown",
   "metadata": {
    "id": "imports"
   },
   "source": [
    "## 📦 Importações e Configuração"
   ]
  },
  {
   "cell_type": "code",
   "execution_count": null,
   "metadata": {
    "id": "imports-code"
   },
   "outputs": [],
   "source": [
    "import requests\n",
    "import json\n",
    "from uuid import UUID\n",
    "\n",
    "BASE_URL = \"http://localhost:8000\"\n",
    "\n",
    "def print_json(data):\n",
    "    \"\"\"Função para imprimir JSON formatado\"\"\"\n",
    "    print(json.dumps(data, indent=2, ensure_ascii=False))"
   ]
  },
  {
   "cell_type": "markdown",
   "metadata": {
    "id": "exemplo1"
   },
   "source": [
    "## 👤 Exemplo 1: Gerenciamento de Usuários"
   ]
  },
  {
   "cell_type": "code",
   "execution_count": null,
   "metadata": {
    "id": "criar-usuario"
   },
   "outputs": [],
   "source": [
    "print(\"👤 CRIANDO USUÁRIOS\\n\")\n",
    "\n",
    "# Criar primeiro usuário\n",
    "usuario1_data = {\n",
    "    \"nome\": \"Ana Silva\",\n",
    "    \"email\": \"ana.silva@email.com\"\n",
    "}\n",
    "\n",
    "response = requests.post(f\"{BASE_URL}/usuarios\", json=usuario1_data)\n",
    "usuario1 = response.json()\n",
    "print(\"✅ Usuário 1 criado:\")\n",
    "print_json(usuario1)\n",
    "\n",
    "# Criar segundo usuário\n",
    "usuario2_data = {\n",
    "    \"nome\": \"Carlos Oliveira\", \n",
    "    \"email\": \"carlos.oliveira@email.com\"\n",
    "}\n",
    "\n",
    "response = requests.post(f\"{BASE_URL}/usuarios\", json=usuario2_data)\n",
    "usuario2 = response.json()\n",
    "print(\"\\n✅ Usuário 2 criado:\")\n",
    "print_json(usuario2)"
   ]
  },
  {
   "cell_type": "markdown",
   "metadata": {
    "id": "exemplo2"
   },
   "source": [
    "## 📝 Exemplo 2: Gerenciamento de Tarefas"
   ]
  },
  {
   "cell_type": "code",
   "execution_count": null,
   "metadata": {
    "id": "criar-tarefas"
   },
   "outputs": [],
   "source": [
    "print(\"📝 CRIANDO TAREFAS\\n\")\n",
    "\n",
    "# Tarefa de prioridade alta para Ana\n",
    "tarefa1_data = {\n",
    "    \"titulo\": \"Estudar FastAPI\",\n",
    "    \"descricao\": \"Completar curso de API REST com FastAPI\",\n",
    "    \"prioridade\": \"alta\",\n",
    "    \"usuario_id\": usuario1[\"id\"]\n",
    "}\n",
    "\n",
    "response = requests.post(f\"{BASE_URL}/tarefas\", json=tarefa1_data)\n",
    "tarefa1 = response.json()\n",
    "print(\"✅ Tarefa 1 criada (Alta prioridade):\")\n",
    "print_json(tarefa1)\n",
    "\n",
    "# Tarefa de prioridade média para Ana\n",
    "tarefa2_data = {\n",
    "    \"titulo\": \"Fazer compras\",\n",
    "    \"descricao\": \"Comprar ingredientes para o jantar\",\n",
    "    \"prioridade\": \"media\", \n",
    "    \"usuario_id\": usuario1[\"id\"]\n",
    "}\n",
    "\n",
    "response = requests.post(f\"{BASE_URL}/tarefas\", json=tarefa2_data)\n",
    "tarefa2 = response.json()\n",
    "print(\"\\n✅ Tarefa 2 criada (Média prioridade):\")\n",
    "print_json(tarefa2)\n",
    "\n",
    "# Tarefa para Carlos\n",
    "tarefa3_data = {\n",
    "    \"titulo\": \"Reunião com cliente\",\n",
    "    \"descricao\": \"Apresentação do novo projeto\",\n",
    "    \"prioridade\": \"alta\",\n",
    "    \"usuario_id\": usuario2[\"id\"]\n",
    "}\n",
    "\n",
    "response = requests.post(f\"{BASE_URL}/tarefas\", json=tarefa3_data)\n",
    "tarefa3 = response.json()\n",
    "print(\"\\n✅ Tarefa 3 criada (Para Carlos):\")\n",
    "print_json(tarefa3)"
   ]
  },
  {
   "cell_type": "markdown",
   "metadata": {
    "id": "exemplo3"
   },
   "source": [
    "## 📋 Exemplo 3: Listagem e Consultas"
   ]
  },
  {
   "cell_type": "code",
   "execution_count": null,
   "metadata": {
    "id": "listar-tarefas"
   },
   "outputs": [],
   "source": [
    "print(\"📋 LISTANDO TAREFAS\\n\")\n",
    "\n",
    "# Listar todas as tarefas da Ana\n",
    "response = requests.get(f\"{BASE_URL}/usuarios/{usuario1['id']}/tarefas\")\n",
    "tarefas_ana = response.json()\n",
    "print(f\"✅ Tarefas da Ana ({len(tarefas_ana)} tarefas):\")\n",
    "for tarefa in tarefas_ana:\n",
    "    print(f\"  - {tarefa['titulo']} ({tarefa['prioridade']}) - {tarefa['status']}\")\n",
    "\n",
    "# Listar todas as tarefas do Carlos\n",
    "response = requests.get(f\"{BASE_URL}/usuarios/{usuario2['id']}/tarefas\")\n",
    "tarefas_carlos = response.json()\n",
    "print(f\"\\n✅ Tarefas do Carlos ({len(tarefas_carlos)} tarefas):\")\n",
    "for tarefa in tarefas_carlos:\n",
    "    print(f\"  - {tarefa['titulo']} ({tarefa['prioridade']}) - {tarefa['status']}\")"
   ]
  },
  {
   "cell_type": "markdown",
   "metadata": {
    "id": "exemplo4"
   },
   "source": [
    "## 📊 Exemplo 4: Estatísticas do Sistema"
   ]
  },
  {
   "cell_type": "code",
   "execution_count": null,
   "metadata": {
    "id": "estatisticas"
   },
   "outputs": [],
   "source": [
    "print(\"📊 ESTATÍSTICAS DO SISTEMA\\n\")\n",
    "\n",
    "# Obter estatísticas\n",
    "response = requests.get(f\"{BASE_URL}/estatisticas\")\n",
    "estatisticas = response.json()\n",
    "print(\"📈 Estatísticas do TaskFlow:\")\n",
    "print_json(estatisticas)\n",
    "\n",
    "print(f\"\\n🔢 Resumo:\")\n",
    "print(f\"• 👥 Total de usuários: {estatisticas['total_usuarios']}\")\n",
    "print(f\"• 📋 Total de tarefas: {estatisticas['total_tarefas']}\")\n",
    "print(f\"• ✅ Tarefas concluídas: {estatisticas['tarefas_concluidas']}\")\n",
    "print(f\"• ⏳ Tarefas pendentes: {estatisticas['tarefas_pendentes']}\")\n",
    "print(f\"• 📊 Taxa de conclusão: {estatisticas['taxa_conclusao']:.1f}%\")"
   ]
  },
  {
   "cell_type": "markdown",
   "metadata": {
    "id": "exemplo5"
   },
   "source": [
    "## 🔍 Exemplo 5: Buscas Individuais"
   ]
  },
  {
   "cell_type": "code",
   "execution_count": null,
   "metadata": {
    "id": "buscas-individuais"
   },
   "outputs": [],
   "source": [
    "print(\"🔍 BUSCAS INDIVIDUAIS\\n\")\n",
    "\n",
    "# Buscar usuário específico\n",
    "response = requests.get(f\"{BASE_URL}/usuarios/{usuario1['id']}\")\n",
    "usuario_buscado = response.json()\n",
    "print(\"✅ Usuário encontrado:\")\n",
    "print_json(usuario_buscado)\n",
    "\n",
    "# Buscar tarefa específica\n",
    "response = requests.get(f\"{BASE_URL}/tarefas/{tarefa1['id']}\")\n",
    "tarefa_buscada = response.json()\n",
    "print(\"\\n✅ Tarefa encontrada:\")\n",
    "print_json(tarefa_buscada)"
   ]
  },
  {
   "cell_type": "markdown",
   "metadata": {
    "id": "conclusao"
   },
   "source": [
    "## 🎯 Conclusão\n",
    "\n",
    "### ✅ O que aprendemos neste exemplo:\n",
    "\n",
    "1. **👤 Criação de usuários** com dados válidos\n",
    "2. **📝 Criação de tarefas** com diferentes prioridades\n",
    "3. **📋 Listagem de tarefas** por usuário\n",
    "4. **📊 Consulta de estatísticas** do sistema\n",
    "5. **🔍 Buscas individuais** de usuários e tarefas\n",
    "\n",
    "### 🌐 Próximos passos:\n",
    "\n",
    "- Acesse a documentação completa: http://localhost:8000/docs\n",
    "- Experimente outros endpoints da API\n",
    - Tente criar categorias e projetos\n",
    "- Teste tratamento de erros com dados inválidos\n",
    "\n",
    "### 🚀 Recursos da API utilizados:\n",
    "\n",
    "- `POST /usuarios` - Criar usuários\n",
    "- `POST /tarefas` - Criar tarefas\n",
    "- `GET /usuarios/{id}/tarefas` - Listar tarefas por usuário\n",
    "- `GET /estatisticas` - Obter estatísticas\n",
    "- `GET /usuarios/{id}` - Buscar usuário específico\n",
    "- `GET /tarefas/{id}` - Buscar tarefa específica\n",
    "\n",
    "---\n",
    \n",
    "**✨ Parabéns! Você explorou com sucesso a TaskFlow API!**"
   ]
  }
 ],
 "metadata": {
  "colab": {
   "provenance": [],
   "toc_visible": true
  },
  "kernelspec": {
   "display_name": "Python 3",
   "name": "python3"
  },
  "language_info": {
   "name": "python"
  }
 },
 "nbformat": 4,
 "nbformat_minor": 0
}
